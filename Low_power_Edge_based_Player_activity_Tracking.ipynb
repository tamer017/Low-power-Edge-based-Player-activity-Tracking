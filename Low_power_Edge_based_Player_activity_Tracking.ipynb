{
  "cells": [
    {
      "cell_type": "markdown",
      "metadata": {
        "id": "view-in-github",
        "colab_type": "text"
      },
      "source": [
        "<a href=\"https://colab.research.google.com/github/tamer017/Low-power-Edge-based-Player-activity-Tracking/blob/main/Low_power_Edge_based_Player_activity_Tracking.ipynb\" target=\"_parent\"><img src=\"https://colab.research.google.com/assets/colab-badge.svg\" alt=\"Open In Colab\"/></a>"
      ]
    },
    {
      "cell_type": "code",
      "execution_count": null,
      "id": "715780e3",
      "metadata": {
        "id": "715780e3"
      },
      "outputs": [],
      "source": [
        "import tensorflow as tf\n",
        "from tensorflow.keras import Sequential\n",
        "from tensorflow.keras.layers import Flatten , Dense , Dropout , BatchNormalization , Conv2D , MaxPool2D , Conv1D , MaxPooling1D\n",
        "from tensorflow.keras.optimizers import Adam\n",
        "from mlxtend.plotting import plot_confusion_matrix\n",
        "from sklearn.metrics import confusion_matrix\n",
        "import pandas as pd\n",
        "import numpy as np\n",
        "import matplotlib.pyplot as plt\n",
        "from sklearn.model_selection import train_test_split\n",
        "from sklearn.preprocessing import StandardScaler, LabelEncoder,MinMaxScaler,OneHotEncoder\n",
        "import scipy.stats as stats\n",
        "import tensorflow.keras.layers as tkl\n",
        "from tensorflow.keras import initializers\n",
        "from tensorflow import keras\n",
        "from tensorflow.keras import layers\n",
        "from sklearn.utils import shuffle\n",
        "from sklearn.model_selection import train_test_split\n",
        "from keras.models import Sequential,Input\n",
        "\n"
      ]
    },
    {
      "cell_type": "code",
      "source": [
        "from google.colab import drive\n",
        "drive.mount('/content/drive')"
      ],
      "metadata": {
        "colab": {
          "base_uri": "https://localhost:8080/"
        },
        "id": "yA2nD6OUrQPS",
        "outputId": "1c494d87-f84b-4bb0-d447-010b888bd71a"
      },
      "id": "yA2nD6OUrQPS",
      "execution_count": null,
      "outputs": [
        {
          "output_type": "stream",
          "name": "stdout",
          "text": [
            "Drive already mounted at /content/drive; to attempt to forcibly remount, call drive.mount(\"/content/drive\", force_remount=True).\n"
          ]
        }
      ]
    },
    {
      "cell_type": "code",
      "source": [
        "dataP=pd.read_csv(\"/content/drive/MyDrive/salah/dataset/passing.csv\")\n",
        "dataR=pd.read_csv(\"/content/drive/MyDrive/salah/dataset/running.csv\")\n",
        "dataS=pd.read_csv(\"/content/drive/MyDrive/salah/dataset/standing.csv\")\n",
        "dataW=pd.read_csv(\"/content/drive/MyDrive/salah/dataset/walking.csv\")\n",
        "dataJ=pd.read_csv(\"/content/drive/MyDrive/salah/dataset/jumping.csv\")"
      ],
      "metadata": {
        "id": "9_ZiXJza0Pm_"
      },
      "id": "9_ZiXJza0Pm_",
      "execution_count": null,
      "outputs": []
    },
    {
      "cell_type": "code",
      "source": [
        "print('There are '+str(dataR.shape[0])+' running points each one of them contains '+str(dataR.shape[1]-1)+' features and labels '+str(dataR.iloc[1,-1])+' as an output label refers to the running.')\n",
        "print('There are '+str(dataW.shape[0])+' walking points each one of them contains '+str(dataW.shape[1]-1)+' features and labels '+str(dataW.iloc[1,-1])+' as an output label refers to the walking.')\n",
        "print('There are '+str(dataS.shape[0])+' standing points each one of them contains '+str(dataS.shape[1]-1)+' features and labels '+str(dataS.iloc[1,-1])+' as an output label refers to the standing.')\n",
        "print('There are '+str(dataJ.shape[0])+' jumping points each one of them contains '+str(dataJ.shape[1]-1)+' features and labels '+str(dataJ.iloc[1,-1])+' as an output label refers to the jumping.')\n",
        "print('There are '+str(dataP.shape[0])+' passing points each one of them contains '+str(dataP.shape[1]-1)+' features and labels '+str(dataP.iloc[1,-1])+' as an output label refers to the passing.')"
      ],
      "metadata": {
        "colab": {
          "base_uri": "https://localhost:8080/",
          "height": 574
        },
        "id": "DfJdaSEB3z_Y",
        "outputId": "41728379-f851-4fe7-a297-79c3883f21cf"
      },
      "id": "DfJdaSEB3z_Y",
      "execution_count": null,
      "outputs": [
        {
          "output_type": "stream",
          "name": "stdout",
          "text": [
            "There are 98916 running points each one of them contains 8 features and labels 0 as an output label refers to the running.\n",
            "There are 85616 walking points each one of them contains 8 features and labels 1 as an output label refers to the walking.\n",
            "There are 82777 standing points each one of them contains 8 features and labels 2 as an output label refers to the standing.\n",
            "There are 68505 jumping points each one of them contains 8 features and labels 3 as an output label refers to the jumping.\n",
            "There are 74603 passing points each one of them contains 8 features and labels 4 as an output label refers to the passing.\n"
          ]
        },
        {
          "output_type": "execute_result",
          "data": {
            "text/plain": [
              "       Unnamed: 0  acc_x  acc_y  acc_z   gyr_x   gyr_y   gyr_z     time  label\n",
              "0               0  -0.39  -0.66   0.54    8.67   -8.61   11.60     13.0      0\n",
              "1               1  -0.40  -0.67   0.55    8.73   -6.04   10.56     24.0      0\n",
              "2               2  -0.39  -0.66   0.55    7.26   -5.98    9.09     36.0      0\n",
              "3               3  -0.39  -0.67   0.54    6.53   -5.98    8.12     47.0      0\n",
              "4               4  -0.40  -0.67   0.55    7.14   -4.27    7.87     58.0      0\n",
              "...           ...    ...    ...    ...     ...     ...     ...      ...    ...\n",
              "98911       98911   1.01   0.57  -0.17  -98.21  100.46  -62.38  91302.0      0\n",
              "98912       98912   2.45   1.71   0.54 -154.79  273.62  -98.39  91322.0      0\n",
              "98913       98913   2.86   1.34  -0.88  -22.52 -363.77  113.46  91343.0      0\n",
              "98914       98914   0.43   1.90   0.02   17.33  131.23  -30.52  91365.0      0\n",
              "98915       98915   1.70   0.96   0.01   12.94  -73.61    8.12  91387.0      0\n",
              "\n",
              "[98916 rows x 9 columns]"
            ],
            "text/html": [
              "\n",
              "  <div id=\"df-a1475d6d-6619-427f-9826-77edbcf7d3bf\">\n",
              "    <div class=\"colab-df-container\">\n",
              "      <div>\n",
              "<style scoped>\n",
              "    .dataframe tbody tr th:only-of-type {\n",
              "        vertical-align: middle;\n",
              "    }\n",
              "\n",
              "    .dataframe tbody tr th {\n",
              "        vertical-align: top;\n",
              "    }\n",
              "\n",
              "    .dataframe thead th {\n",
              "        text-align: right;\n",
              "    }\n",
              "</style>\n",
              "<table border=\"1\" class=\"dataframe\">\n",
              "  <thead>\n",
              "    <tr style=\"text-align: right;\">\n",
              "      <th></th>\n",
              "      <th>Unnamed: 0</th>\n",
              "      <th>acc_x</th>\n",
              "      <th>acc_y</th>\n",
              "      <th>acc_z</th>\n",
              "      <th>gyr_x</th>\n",
              "      <th>gyr_y</th>\n",
              "      <th>gyr_z</th>\n",
              "      <th>time</th>\n",
              "      <th>label</th>\n",
              "    </tr>\n",
              "  </thead>\n",
              "  <tbody>\n",
              "    <tr>\n",
              "      <th>0</th>\n",
              "      <td>0</td>\n",
              "      <td>-0.39</td>\n",
              "      <td>-0.66</td>\n",
              "      <td>0.54</td>\n",
              "      <td>8.67</td>\n",
              "      <td>-8.61</td>\n",
              "      <td>11.60</td>\n",
              "      <td>13.0</td>\n",
              "      <td>0</td>\n",
              "    </tr>\n",
              "    <tr>\n",
              "      <th>1</th>\n",
              "      <td>1</td>\n",
              "      <td>-0.40</td>\n",
              "      <td>-0.67</td>\n",
              "      <td>0.55</td>\n",
              "      <td>8.73</td>\n",
              "      <td>-6.04</td>\n",
              "      <td>10.56</td>\n",
              "      <td>24.0</td>\n",
              "      <td>0</td>\n",
              "    </tr>\n",
              "    <tr>\n",
              "      <th>2</th>\n",
              "      <td>2</td>\n",
              "      <td>-0.39</td>\n",
              "      <td>-0.66</td>\n",
              "      <td>0.55</td>\n",
              "      <td>7.26</td>\n",
              "      <td>-5.98</td>\n",
              "      <td>9.09</td>\n",
              "      <td>36.0</td>\n",
              "      <td>0</td>\n",
              "    </tr>\n",
              "    <tr>\n",
              "      <th>3</th>\n",
              "      <td>3</td>\n",
              "      <td>-0.39</td>\n",
              "      <td>-0.67</td>\n",
              "      <td>0.54</td>\n",
              "      <td>6.53</td>\n",
              "      <td>-5.98</td>\n",
              "      <td>8.12</td>\n",
              "      <td>47.0</td>\n",
              "      <td>0</td>\n",
              "    </tr>\n",
              "    <tr>\n",
              "      <th>4</th>\n",
              "      <td>4</td>\n",
              "      <td>-0.40</td>\n",
              "      <td>-0.67</td>\n",
              "      <td>0.55</td>\n",
              "      <td>7.14</td>\n",
              "      <td>-4.27</td>\n",
              "      <td>7.87</td>\n",
              "      <td>58.0</td>\n",
              "      <td>0</td>\n",
              "    </tr>\n",
              "    <tr>\n",
              "      <th>...</th>\n",
              "      <td>...</td>\n",
              "      <td>...</td>\n",
              "      <td>...</td>\n",
              "      <td>...</td>\n",
              "      <td>...</td>\n",
              "      <td>...</td>\n",
              "      <td>...</td>\n",
              "      <td>...</td>\n",
              "      <td>...</td>\n",
              "    </tr>\n",
              "    <tr>\n",
              "      <th>98911</th>\n",
              "      <td>98911</td>\n",
              "      <td>1.01</td>\n",
              "      <td>0.57</td>\n",
              "      <td>-0.17</td>\n",
              "      <td>-98.21</td>\n",
              "      <td>100.46</td>\n",
              "      <td>-62.38</td>\n",
              "      <td>91302.0</td>\n",
              "      <td>0</td>\n",
              "    </tr>\n",
              "    <tr>\n",
              "      <th>98912</th>\n",
              "      <td>98912</td>\n",
              "      <td>2.45</td>\n",
              "      <td>1.71</td>\n",
              "      <td>0.54</td>\n",
              "      <td>-154.79</td>\n",
              "      <td>273.62</td>\n",
              "      <td>-98.39</td>\n",
              "      <td>91322.0</td>\n",
              "      <td>0</td>\n",
              "    </tr>\n",
              "    <tr>\n",
              "      <th>98913</th>\n",
              "      <td>98913</td>\n",
              "      <td>2.86</td>\n",
              "      <td>1.34</td>\n",
              "      <td>-0.88</td>\n",
              "      <td>-22.52</td>\n",
              "      <td>-363.77</td>\n",
              "      <td>113.46</td>\n",
              "      <td>91343.0</td>\n",
              "      <td>0</td>\n",
              "    </tr>\n",
              "    <tr>\n",
              "      <th>98914</th>\n",
              "      <td>98914</td>\n",
              "      <td>0.43</td>\n",
              "      <td>1.90</td>\n",
              "      <td>0.02</td>\n",
              "      <td>17.33</td>\n",
              "      <td>131.23</td>\n",
              "      <td>-30.52</td>\n",
              "      <td>91365.0</td>\n",
              "      <td>0</td>\n",
              "    </tr>\n",
              "    <tr>\n",
              "      <th>98915</th>\n",
              "      <td>98915</td>\n",
              "      <td>1.70</td>\n",
              "      <td>0.96</td>\n",
              "      <td>0.01</td>\n",
              "      <td>12.94</td>\n",
              "      <td>-73.61</td>\n",
              "      <td>8.12</td>\n",
              "      <td>91387.0</td>\n",
              "      <td>0</td>\n",
              "    </tr>\n",
              "  </tbody>\n",
              "</table>\n",
              "<p>98916 rows × 9 columns</p>\n",
              "</div>\n",
              "      <button class=\"colab-df-convert\" onclick=\"convertToInteractive('df-a1475d6d-6619-427f-9826-77edbcf7d3bf')\"\n",
              "              title=\"Convert this dataframe to an interactive table.\"\n",
              "              style=\"display:none;\">\n",
              "        \n",
              "  <svg xmlns=\"http://www.w3.org/2000/svg\" height=\"24px\"viewBox=\"0 0 24 24\"\n",
              "       width=\"24px\">\n",
              "    <path d=\"M0 0h24v24H0V0z\" fill=\"none\"/>\n",
              "    <path d=\"M18.56 5.44l.94 2.06.94-2.06 2.06-.94-2.06-.94-.94-2.06-.94 2.06-2.06.94zm-11 1L8.5 8.5l.94-2.06 2.06-.94-2.06-.94L8.5 2.5l-.94 2.06-2.06.94zm10 10l.94 2.06.94-2.06 2.06-.94-2.06-.94-.94-2.06-.94 2.06-2.06.94z\"/><path d=\"M17.41 7.96l-1.37-1.37c-.4-.4-.92-.59-1.43-.59-.52 0-1.04.2-1.43.59L10.3 9.45l-7.72 7.72c-.78.78-.78 2.05 0 2.83L4 21.41c.39.39.9.59 1.41.59.51 0 1.02-.2 1.41-.59l7.78-7.78 2.81-2.81c.8-.78.8-2.07 0-2.86zM5.41 20L4 18.59l7.72-7.72 1.47 1.35L5.41 20z\"/>\n",
              "  </svg>\n",
              "      </button>\n",
              "      \n",
              "  <style>\n",
              "    .colab-df-container {\n",
              "      display:flex;\n",
              "      flex-wrap:wrap;\n",
              "      gap: 12px;\n",
              "    }\n",
              "\n",
              "    .colab-df-convert {\n",
              "      background-color: #E8F0FE;\n",
              "      border: none;\n",
              "      border-radius: 50%;\n",
              "      cursor: pointer;\n",
              "      display: none;\n",
              "      fill: #1967D2;\n",
              "      height: 32px;\n",
              "      padding: 0 0 0 0;\n",
              "      width: 32px;\n",
              "    }\n",
              "\n",
              "    .colab-df-convert:hover {\n",
              "      background-color: #E2EBFA;\n",
              "      box-shadow: 0px 1px 2px rgba(60, 64, 67, 0.3), 0px 1px 3px 1px rgba(60, 64, 67, 0.15);\n",
              "      fill: #174EA6;\n",
              "    }\n",
              "\n",
              "    [theme=dark] .colab-df-convert {\n",
              "      background-color: #3B4455;\n",
              "      fill: #D2E3FC;\n",
              "    }\n",
              "\n",
              "    [theme=dark] .colab-df-convert:hover {\n",
              "      background-color: #434B5C;\n",
              "      box-shadow: 0px 1px 3px 1px rgba(0, 0, 0, 0.15);\n",
              "      filter: drop-shadow(0px 1px 2px rgba(0, 0, 0, 0.3));\n",
              "      fill: #FFFFFF;\n",
              "    }\n",
              "  </style>\n",
              "\n",
              "      <script>\n",
              "        const buttonEl =\n",
              "          document.querySelector('#df-a1475d6d-6619-427f-9826-77edbcf7d3bf button.colab-df-convert');\n",
              "        buttonEl.style.display =\n",
              "          google.colab.kernel.accessAllowed ? 'block' : 'none';\n",
              "\n",
              "        async function convertToInteractive(key) {\n",
              "          const element = document.querySelector('#df-a1475d6d-6619-427f-9826-77edbcf7d3bf');\n",
              "          const dataTable =\n",
              "            await google.colab.kernel.invokeFunction('convertToInteractive',\n",
              "                                                     [key], {});\n",
              "          if (!dataTable) return;\n",
              "\n",
              "          const docLinkHtml = 'Like what you see? Visit the ' +\n",
              "            '<a target=\"_blank\" href=https://colab.research.google.com/notebooks/data_table.ipynb>data table notebook</a>'\n",
              "            + ' to learn more about interactive tables.';\n",
              "          element.innerHTML = '';\n",
              "          dataTable['output_type'] = 'display_data';\n",
              "          await google.colab.output.renderOutput(dataTable, element);\n",
              "          const docLink = document.createElement('div');\n",
              "          docLink.innerHTML = docLinkHtml;\n",
              "          element.appendChild(docLink);\n",
              "        }\n",
              "      </script>\n",
              "    </div>\n",
              "  </div>\n",
              "  "
            ]
          },
          "metadata": {},
          "execution_count": 55
        }
      ]
    },
    {
      "cell_type": "code",
      "execution_count": null,
      "id": "f5ee2215",
      "metadata": {
        "id": "f5ee2215"
      },
      "outputs": [],
      "source": [
        "def get_frames(df, frame_size, hop_size):\n",
        "\n",
        "    N_FEATURES = 6\n",
        "\n",
        "    frames = []\n",
        "    labels = []\n",
        "    for i in range(0, len(df) - frame_size, hop_size):\n",
        "        acc_x = df['acc_x'].values[i: i + frame_size]\n",
        "        acc_y = df['acc_y'].values[i: i + frame_size]\n",
        "        acc_z = df['acc_z'].values[i: i + frame_size]\n",
        "        gyr_x = df['gyr_x'].values[i: i + frame_size]\n",
        "        gyr_y = df['gyr_y'].values[i: i + frame_size]\n",
        "        gyr_z = df['gyr_z'].values[i: i + frame_size]\n",
        "\n",
        "        \n",
        "        \n",
        "        # Retrieve the most often used label in this segment\n",
        "        label = stats.mode(df['label'][i: i + frame_size])[0][0]\n",
        "        frames.append([acc_x, acc_y, acc_z,gyr_x,gyr_y,gyr_z])\n",
        "        labels.append(label)\n",
        "\n",
        "    # Bring the segments into a better shape\n",
        "    frames = np.asarray(frames)\n",
        "    # .reshape(-1, frame_size, N_FEATURES)\n",
        "    labels = np.array(labels)\n",
        "\n",
        "    return frames, labels"
      ]
    },
    {
      "cell_type": "code",
      "execution_count": null,
      "id": "d0c4db98",
      "metadata": {
        "id": "d0c4db98",
        "colab": {
          "base_uri": "https://localhost:8080/"
        },
        "outputId": "18522e40-b039-4e80-deff-58aaff2746c3"
      },
      "outputs": [
        {
          "output_type": "execute_result",
          "data": {
            "text/plain": [
              "(3288,)"
            ]
          },
          "metadata": {},
          "execution_count": 61
        }
      ],
      "source": [
        "RF,RY  = get_frames(dataR,300,30)\n",
        "WF,WY  = get_frames(dataW,300,25)\n",
        "SF,SY  = get_frames(dataS,300,25)\n",
        "JF,JY = get_frames(dataJ,300,100)\n",
        "PF,PY = get_frames(dataP,300,100)\n",
        "RY.shape"
      ]
    },
    {
      "cell_type": "code",
      "source": [
        "data=np.concatenate([RF.reshape(RF.shape[0],RF.shape[2]*RF.shape[1]),\n",
        "                     WF.reshape(WF.shape[0],WF.shape[2]*WF.shape[1]),\n",
        "                     SF.reshape(SF.shape[0],SF.shape[2]*SF.shape[1]),\n",
        "                     JF.reshape(JF.shape[0],JF.shape[2]*JF.shape[1]),\n",
        "                     PF.reshape(PF.shape[0],PF.shape[2]*PF.shape[1])],axis=0)\n",
        "output_labels=np.concatenate([RY,WY,SY,JY,PY],axis=0)\n",
        "output_labels.shape"
      ],
      "metadata": {
        "colab": {
          "base_uri": "https://localhost:8080/"
        },
        "id": "zk2wwWHtXjzp",
        "outputId": "effbef27-57d3-4a17-adb3-33db817bdbd3"
      },
      "id": "zk2wwWHtXjzp",
      "execution_count": null,
      "outputs": [
        {
          "output_type": "execute_result",
          "data": {
            "text/plain": [
              "(11428,)"
            ]
          },
          "metadata": {},
          "execution_count": 63
        }
      ]
    },
    {
      "cell_type": "code",
      "execution_count": null,
      "id": "ae33af58",
      "metadata": {
        "id": "ae33af58"
      },
      "outputs": [],
      "source": [
        "scaler = StandardScaler()\n",
        "data = scaler.fit_transform(data)\n",
        "data = pd.DataFrame(data)"
      ]
    },
    {
      "cell_type": "code",
      "execution_count": null,
      "id": "0dda08b6",
      "metadata": {
        "id": "0dda08b6",
        "outputId": "b05c8490-c732-446f-da68-3dbdcde14401",
        "colab": {
          "base_uri": "https://localhost:8080/"
        }
      },
      "outputs": [
        {
          "output_type": "execute_result",
          "data": {
            "text/plain": [
              "(array([3288, 3413, 3300,  683,  744]), array([0, 1, 2, 3, 4]))"
            ]
          },
          "metadata": {},
          "execution_count": 65
        }
      ],
      "source": [
        "unique, counts = np.unique(output_labels, return_counts=True)\n",
        "counts,unique"
      ]
    },
    {
      "cell_type": "code",
      "execution_count": null,
      "id": "19c16bd4",
      "metadata": {
        "id": "19c16bd4"
      },
      "outputs": [],
      "source": [
        "X_train, X_test, y_train, y_test = train_test_split(data, output_labels, test_size = 0.25, random_state = 0, stratify = output_labels)\n"
      ]
    },
    {
      "cell_type": "code",
      "execution_count": null,
      "id": "af2bc25e",
      "metadata": {
        "id": "af2bc25e",
        "outputId": "85eb5b48-fbc7-447d-fffb-a5f8013e2178",
        "colab": {
          "base_uri": "https://localhost:8080/"
        }
      },
      "outputs": [
        {
          "output_type": "execute_result",
          "data": {
            "text/plain": [
              "((8571, 1800), (2857, 1800))"
            ]
          },
          "metadata": {},
          "execution_count": 67
        }
      ],
      "source": [
        "X_train.shape, X_test.shape\n"
      ]
    },
    {
      "cell_type": "code",
      "execution_count": null,
      "id": "d3397b25",
      "metadata": {
        "id": "d3397b25",
        "colab": {
          "base_uri": "https://localhost:8080/"
        },
        "outputId": "0987d4fa-fa21-47b0-e836-11ca5d7b591d"
      },
      "outputs": [
        {
          "output_type": "stream",
          "name": "stdout",
          "text": [
            "Model: \"model_1\"\n",
            "_________________________________________________________________\n",
            " Layer (type)                Output Shape              Param #   \n",
            "=================================================================\n",
            " input_9 (InputLayer)        [(None, 1800)]            0         \n",
            "                                                                 \n",
            " reshape_5 (Reshape)         (None, 1800, 1)           0         \n",
            "                                                                 \n",
            " conv1d_14 (Conv1D)          (None, 1798, 32)          128       \n",
            "                                                                 \n",
            " conv1d_15 (Conv1D)          (None, 1796, 32)          3104      \n",
            "                                                                 \n",
            " conv1d_16 (Conv1D)          (None, 1794, 64)          6208      \n",
            "                                                                 \n",
            " dropout_2 (Dropout)         (None, 1794, 64)          0         \n",
            "                                                                 \n",
            " max_pooling1d_2 (MaxPooling  (None, 897, 64)          0         \n",
            " 1D)                                                             \n",
            "                                                                 \n",
            " flatten_2 (Flatten)         (None, 57408)             0         \n",
            "                                                                 \n",
            " dense_4 (Dense)             (None, 16)                918544    \n",
            "                                                                 \n",
            " dense_5 (Dense)             (None, 5)                 85        \n",
            "                                                                 \n",
            "=================================================================\n",
            "Total params: 928,069\n",
            "Trainable params: 928,069\n",
            "Non-trainable params: 0\n",
            "_________________________________________________________________\n"
          ]
        }
      ],
      "source": [
        "input=Input(shape=(1800))\n",
        "layer=layers.Reshape((1800,1))(input)\n",
        "layer=Conv1D(filters=32, kernel_size=3, activation='relu')(layer)\n",
        "layer=Conv1D(filters=32, kernel_size=3, activation='relu')(layer)\n",
        "layer=Conv1D(filters=64, kernel_size=3, activation='relu')(layer)\n",
        "layer=Dropout(0.5)(layer)\n",
        "layer=MaxPooling1D(pool_size=2)(layer)\n",
        "layer=Flatten()(layer)\n",
        "layer=Dense(16, activation='relu')(layer)\n",
        "output=Dense(5, activation='softmax')(layer)\n",
        "model=keras.Model(inputs=input,outputs=output)\n",
        "# model.compile(loss='categorical_crossentropy', optimizer='adam', metrics=['accuracy'])\n",
        "model.summary()"
      ]
    },
    {
      "cell_type": "code",
      "execution_count": null,
      "id": "f87cdab4",
      "metadata": {
        "id": "f87cdab4"
      },
      "outputs": [],
      "source": [
        "model.compile(optimizer=Adam(learning_rate = 0.001), loss = 'sparse_categorical_crossentropy', metrics = ['accuracy'])\n"
      ]
    },
    {
      "cell_type": "code",
      "execution_count": null,
      "id": "0ca2ee30",
      "metadata": {
        "id": "0ca2ee30",
        "outputId": "00338cd6-6329-4fea-e02e-e766e189de39",
        "colab": {
          "base_uri": "https://localhost:8080/"
        }
      },
      "outputs": [
        {
          "output_type": "stream",
          "name": "stdout",
          "text": [
            "Epoch 1/15\n",
            "268/268 [==============================] - 66s 240ms/step - loss: 0.2171 - accuracy: 0.9258 - val_loss: 0.0513 - val_accuracy: 0.9898\n",
            "Epoch 2/15\n",
            "268/268 [==============================] - 58s 216ms/step - loss: 0.0226 - accuracy: 0.9931 - val_loss: 0.0495 - val_accuracy: 0.9877\n",
            "Epoch 3/15\n",
            "268/268 [==============================] - 57s 212ms/step - loss: 0.0110 - accuracy: 0.9959 - val_loss: 0.0207 - val_accuracy: 0.9944\n",
            "Epoch 4/15\n",
            "268/268 [==============================] - 57s 212ms/step - loss: 0.0069 - accuracy: 0.9973 - val_loss: 0.0177 - val_accuracy: 0.9940\n",
            "Epoch 5/15\n",
            "268/268 [==============================] - 57s 213ms/step - loss: 0.0019 - accuracy: 0.9994 - val_loss: 0.0371 - val_accuracy: 0.9888\n",
            "Epoch 6/15\n",
            "268/268 [==============================] - 57s 211ms/step - loss: 0.0014 - accuracy: 0.9998 - val_loss: 0.0132 - val_accuracy: 0.9947\n",
            "Epoch 7/15\n",
            "268/268 [==============================] - 57s 212ms/step - loss: 1.6529e-04 - accuracy: 1.0000 - val_loss: 0.0139 - val_accuracy: 0.9951\n",
            "Epoch 8/15\n",
            "268/268 [==============================] - 57s 212ms/step - loss: 7.4220e-05 - accuracy: 1.0000 - val_loss: 0.0145 - val_accuracy: 0.9951\n",
            "Epoch 9/15\n",
            "268/268 [==============================] - 57s 211ms/step - loss: 3.8984e-05 - accuracy: 1.0000 - val_loss: 0.0147 - val_accuracy: 0.9951\n",
            "Epoch 10/15\n",
            "268/268 [==============================] - 57s 214ms/step - loss: 2.9538e-05 - accuracy: 1.0000 - val_loss: 0.0145 - val_accuracy: 0.9954\n",
            "Epoch 11/15\n",
            "268/268 [==============================] - 57s 213ms/step - loss: 2.6783e-05 - accuracy: 1.0000 - val_loss: 0.0143 - val_accuracy: 0.9954\n",
            "Epoch 12/15\n",
            "268/268 [==============================] - 57s 211ms/step - loss: 1.9387e-05 - accuracy: 1.0000 - val_loss: 0.0154 - val_accuracy: 0.9951\n",
            "Epoch 13/15\n",
            "268/268 [==============================] - 56s 210ms/step - loss: 1.4435e-05 - accuracy: 1.0000 - val_loss: 0.0147 - val_accuracy: 0.9954\n",
            "Epoch 14/15\n",
            "268/268 [==============================] - 56s 210ms/step - loss: 1.2948e-05 - accuracy: 1.0000 - val_loss: 0.0148 - val_accuracy: 0.9954\n",
            "Epoch 15/15\n",
            "268/268 [==============================] - 56s 209ms/step - loss: 9.6485e-06 - accuracy: 1.0000 - val_loss: 0.0145 - val_accuracy: 0.9954\n"
          ]
        }
      ],
      "source": [
        "history = model.fit(X_train, y_train, epochs = 15, validation_data= (X_test, y_test), verbose=1)\n"
      ]
    },
    {
      "cell_type": "code",
      "execution_count": null,
      "id": "61e01144",
      "metadata": {
        "id": "61e01144"
      },
      "outputs": [],
      "source": [
        "def plot_learningCurve(history, epochs):\n",
        "  # Plot training & validation accuracy values\n",
        "  epoch_range = range(1, epochs+1)\n",
        "  plt.plot(epoch_range, history.history['accuracy'])\n",
        "  plt.plot(epoch_range, history.history['val_accuracy'])\n",
        "  plt.title('Model accuracy')\n",
        "  plt.ylabel('Accuracy')\n",
        "  plt.xlabel('Epoch')\n",
        "  plt.legend(['Train', 'Val'], loc='upper left')\n",
        "  plt.show()\n",
        "\n",
        "  # Plot training & validation loss values\n",
        "  plt.plot(epoch_range, history.history['loss'])\n",
        "  plt.plot(epoch_range, history.history['val_loss'])\n",
        "  plt.title('Model loss')\n",
        "  plt.ylabel('Loss')\n",
        "  plt.xlabel('Epoch')\n",
        "  plt.legend(['Train', 'Val'], loc='upper left')\n",
        "  plt.show()"
      ]
    },
    {
      "cell_type": "code",
      "execution_count": null,
      "id": "04098793",
      "metadata": {
        "id": "04098793",
        "outputId": "eef3ffde-c7a4-4f8f-ddc2-b3382eabcbda",
        "colab": {
          "base_uri": "https://localhost:8080/",
          "height": 573
        }
      },
      "outputs": [
        {
          "output_type": "display_data",
          "data": {
            "text/plain": [
              "<Figure size 432x288 with 1 Axes>"
            ],
            "image/png": "[encoded data removed]"
          },
          "metadata": {
            "needs_background": "light"
          }
        },
        {
          "output_type": "display_data",
          "data": {
            "text/plain": [
              "<Figure size 432x288 with 1 Axes>"
            ],
            "image/png": "[encoded data removed]"
          },
          "metadata": {
            "needs_background": "light"
          }
        }
      ],
      "source": [
        "plot_learningCurve(history, 15)\n"
      ]
    },
    {
      "cell_type": "code",
      "execution_count": null,
      "id": "b811f54a",
      "metadata": {
        "id": "b811f54a"
      },
      "outputs": [],
      "source": [
        "y_pred=model.predict(X_test)"
      ]
    },
    {
      "cell_type": "code",
      "execution_count": null,
      "id": "09cfb846",
      "metadata": {
        "id": "09cfb846"
      },
      "outputs": [],
      "source": [
        "encoder=LabelEncoder()\n",
        "y_test=encoder.fit_transform(y_test)\n",
        "y_test=pd.get_dummies(y_test).values"
      ]
    },
    {
      "cell_type": "code",
      "execution_count": null,
      "id": "b5531c1e",
      "metadata": {
        "id": "b5531c1e"
      },
      "outputs": [],
      "source": [
        "y_test_class=np.argmax(y_test,axis=1)\n",
        "y_pred_class=np.argmax(y_pred,axis=1)"
      ]
    },
    {
      "cell_type": "code",
      "execution_count": null,
      "id": "d79f52ee",
      "metadata": {
        "id": "d79f52ee",
        "outputId": "1f8bb8e8-a139-4bb3-8c07-136125705f8e",
        "colab": {
          "base_uri": "https://localhost:8080/"
        }
      },
      "outputs": [
        {
          "output_type": "execute_result",
          "data": {
            "text/plain": [
              "LabelEncoder()"
            ]
          },
          "metadata": {},
          "execution_count": 90
        }
      ],
      "source": [
        "label = LabelEncoder()\n",
        "# x['label'] = label.fit_transform(x['activity'])\n",
        "# data.head()\n",
        "label"
      ]
    },
    {
      "cell_type": "code",
      "execution_count": null,
      "id": "b9847b28",
      "metadata": {
        "id": "b9847b28",
        "outputId": "31886c60-048f-4c92-cdcf-efe66c85f696",
        "colab": {
          "base_uri": "https://localhost:8080/"
        }
      },
      "outputs": [
        {
          "output_type": "execute_result",
          "data": {
            "text/plain": [
              "['running', 'walking', 'standing', 'jumping', 'ballPassing']"
            ]
          },
          "metadata": {},
          "execution_count": 94
        }
      ],
      "source": [
        "label.classes = ['running','walking','standing','jumping','ballPassing']\n",
        "label.classes"
      ]
    },
    {
      "cell_type": "code",
      "execution_count": null,
      "id": "e68a626e",
      "metadata": {
        "id": "e68a626e",
        "outputId": "47814801-b233-4e08-c0b9-5fad790bacba",
        "colab": {
          "base_uri": "https://localhost:8080/",
          "height": 477
        }
      },
      "outputs": [
        {
          "output_type": "execute_result",
          "data": {
            "text/plain": [
              "(<Figure size 504x504 with 1 Axes>,\n",
              " <matplotlib.axes._subplots.AxesSubplot at 0x7fda16aeb950>)"
            ]
          },
          "metadata": {},
          "execution_count": 97
        },
        {
          "output_type": "display_data",
          "data": {
            "text/plain": [
              "<Figure size 504x504 with 1 Axes>"
            ],
            "image/png": "[encoded data removed]"
          },
          "metadata": {
            "needs_background": "light"
          }
        }
      ],
      "source": [
        "from sklearn.metrics import confusion_matrix,accuracy_score\n",
        "cm=confusion_matrix(y_test_class,y_pred_class)\n",
        "plot_confusion_matrix(conf_mat= cm,show_normed=True,figsize=(7,7))"
      ]
    },
    {
      "cell_type": "code",
      "execution_count": null,
      "id": "5cda4775",
      "metadata": {
        "id": "5cda4775"
      },
      "outputs": [],
      "source": [
        "model.save('CNN1D_FinalModel4' + '.h5')"
      ]
    },
    {
      "cell_type": "code",
      "execution_count": null,
      "id": "05cbe2b9",
      "metadata": {
        "id": "05cbe2b9",
        "outputId": "f9568308-83d1-4be1-a1b9-0f3afb806cd7"
      },
      "outputs": [
        {
          "data": {
            "text/plain": [
              "87248"
            ]
          },
          "execution_count": 133,
          "metadata": {},
          "output_type": "execute_result"
        }
      ],
      "source": [
        "converter = tf.lite.TFLiteConverter.from_keras_model(model)\n",
        "converter.optimizations = [tf.lite.Optimize.OPTIMIZE_FOR_SIZE]\n",
        "tflite_model = converter.convert()\n",
        "open('CNN1D_FinalModel4' + '.tflite' , 'wb').write(tflite_model)"
      ]
    },
    {
      "cell_type": "code",
      "execution_count": null,
      "id": "7bc77e43",
      "metadata": {
        "id": "7bc77e43"
      },
      "outputs": [],
      "source": [
        "def hex_to_c_array(hex_data , var_name):\n",
        "    c_str = ''\n",
        "    \n",
        "    c_str += '#ifndef ' + var_name.upper() + '_H\\n'\n",
        "    c_str += '#define ' + var_name.upper() + '_H\\n\\n'\n",
        "    \n",
        "    c_str += '\\nconst unsigned int ' + var_name + '_len = ' + str(len(hex_data)) + ';\\n'\n",
        "    \n",
        "    \n",
        "    c_str += 'const unsigned char ' + var_name + '[] = {'\n",
        "    hex_array = []\n",
        "    for i , val in enumerate(hex_data) :\n",
        "        \n",
        "        hex_str = format(val,'#04x')\n",
        "        \n",
        "        if(i+1) < len(hex_data) : \n",
        "            hex_str += ','\n",
        "        if(i+1) % 12 == 0 : \n",
        "            hex_str += '\\n'\n",
        "        hex_array.append(hex_str) \n",
        "        \n",
        "    c_str += '\\n' + format(' '.join(hex_array)) + '\\n};\\n\\n'\n",
        "        \n",
        "    c_str += '#endif  //' + var_name.upper() + '_H' \n",
        "        \n",
        "    return c_str"
      ]
    },
    {
      "cell_type": "code",
      "execution_count": null,
      "id": "62ee729b",
      "metadata": {
        "id": "62ee729b"
      },
      "outputs": [],
      "source": [
        "with open('c_CNN1D_FinalModel4' + '.h' , 'w') as file : \n",
        "    file.write(hex_to_c_array(tflite_model,'c_CNN1D_FinalModel4'))"
      ]
    },
    {
      "cell_type": "code",
      "execution_count": null,
      "id": "380ad9fd",
      "metadata": {
        "id": "380ad9fd"
      },
      "outputs": [],
      "source": [
        ""
      ]
    },
    {
      "cell_type": "code",
      "execution_count": null,
      "id": "a626f163",
      "metadata": {
        "id": "a626f163"
      },
      "outputs": [],
      "source": [
        ""
      ]
    },
    {
      "cell_type": "code",
      "execution_count": null,
      "id": "d9a0280f",
      "metadata": {
        "id": "d9a0280f"
      },
      "outputs": [],
      "source": [
        ""
      ]
    },
    {
      "cell_type": "code",
      "execution_count": null,
      "id": "69f9c9aa",
      "metadata": {
        "id": "69f9c9aa"
      },
      "outputs": [],
      "source": [
        ""
      ]
    }
  ],
  "metadata": {
    "kernelspec": {
      "display_name": "Python 3 (ipykernel)",
      "language": "python",
      "name": "python3"
    },
    "language_info": {
      "codemirror_mode": {
        "name": "ipython",
        "version": 3
      },
      "file_extension": ".py",
      "mimetype": "text/x-python",
      "name": "python",
      "nbconvert_exporter": "python",
      "pygments_lexer": "ipython3",
      "version": "3.7.13"
    },
    "colab": {
      "name": "Low power Edge based Player activity Tracking.ipynb",
      "provenance": [],
      "include_colab_link": true
    }
  },
  "nbformat": 4,
  "nbformat_minor": 5
}